{
 "cells": [
  {
   "cell_type": "code",
   "execution_count": 29,
   "metadata": {},
   "outputs": [],
   "source": [
    "import pandas as pd\n",
    "import numpy as np\n",
    "import tensorflow as tf\n",
    "from sklearn.model_selection import train_test_split"
   ]
  },
  {
   "cell_type": "code",
   "execution_count": 30,
   "metadata": {},
   "outputs": [],
   "source": [
    "census_data = pd.read_csv('adult.csv')"
   ]
  },
  {
   "cell_type": "code",
   "execution_count": 31,
   "metadata": {},
   "outputs": [
    {
     "data": {
      "text/plain": [
       "Index(['age', 'workclass', 'fnlwgt', 'education', 'education.num',\n",
       "       'marital.status', 'occupation', 'relationship', 'race', 'sex',\n",
       "       'capital.gain', 'capital.loss', 'hours.per.week', 'native.country',\n",
       "       'income'],\n",
       "      dtype='object')"
      ]
     },
     "execution_count": 31,
     "metadata": {},
     "output_type": "execute_result"
    }
   ],
   "source": [
    "census_data.columns"
   ]
  },
  {
   "cell_type": "code",
   "execution_count": 32,
   "metadata": {},
   "outputs": [
    {
     "data": {
      "text/plain": [
       "array(['<=50K', '>50K'], dtype=object)"
      ]
     },
     "execution_count": 32,
     "metadata": {},
     "output_type": "execute_result"
    }
   ],
   "source": [
    "census_data.income.unique()"
   ]
  },
  {
   "cell_type": "code",
   "execution_count": 33,
   "metadata": {},
   "outputs": [],
   "source": [
    "def change_values(input):\n",
    "    if input == '<=50K':\n",
    "        return 0\n",
    "    else:\n",
    "        return 1"
   ]
  },
  {
   "cell_type": "code",
   "execution_count": 34,
   "metadata": {},
   "outputs": [],
   "source": [
    "census_data['income'] = census_data['income'].apply(change_values)"
   ]
  },
  {
   "cell_type": "code",
   "execution_count": 10,
   "metadata": {},
   "outputs": [
    {
     "data": {
      "text/html": [
       "<div>\n",
       "<style scoped>\n",
       "    .dataframe tbody tr th:only-of-type {\n",
       "        vertical-align: middle;\n",
       "    }\n",
       "\n",
       "    .dataframe tbody tr th {\n",
       "        vertical-align: top;\n",
       "    }\n",
       "\n",
       "    .dataframe thead th {\n",
       "        text-align: right;\n",
       "    }\n",
       "</style>\n",
       "<table border=\"1\" class=\"dataframe\">\n",
       "  <thead>\n",
       "    <tr style=\"text-align: right;\">\n",
       "      <th></th>\n",
       "      <th>age</th>\n",
       "      <th>workclass</th>\n",
       "      <th>fnlwgt</th>\n",
       "      <th>education</th>\n",
       "      <th>education.num</th>\n",
       "      <th>marital.status</th>\n",
       "      <th>occupation</th>\n",
       "      <th>relationship</th>\n",
       "      <th>race</th>\n",
       "      <th>sex</th>\n",
       "      <th>capital.gain</th>\n",
       "      <th>capital.loss</th>\n",
       "      <th>hours.per.week</th>\n",
       "      <th>native.country</th>\n",
       "      <th>income</th>\n",
       "    </tr>\n",
       "  </thead>\n",
       "  <tbody>\n",
       "    <tr>\n",
       "      <th>0</th>\n",
       "      <td>90</td>\n",
       "      <td>?</td>\n",
       "      <td>77053</td>\n",
       "      <td>HS-grad</td>\n",
       "      <td>9</td>\n",
       "      <td>Widowed</td>\n",
       "      <td>?</td>\n",
       "      <td>Not-in-family</td>\n",
       "      <td>White</td>\n",
       "      <td>Female</td>\n",
       "      <td>0</td>\n",
       "      <td>4356</td>\n",
       "      <td>40</td>\n",
       "      <td>United-States</td>\n",
       "      <td>0</td>\n",
       "    </tr>\n",
       "    <tr>\n",
       "      <th>1</th>\n",
       "      <td>82</td>\n",
       "      <td>Private</td>\n",
       "      <td>132870</td>\n",
       "      <td>HS-grad</td>\n",
       "      <td>9</td>\n",
       "      <td>Widowed</td>\n",
       "      <td>Exec-managerial</td>\n",
       "      <td>Not-in-family</td>\n",
       "      <td>White</td>\n",
       "      <td>Female</td>\n",
       "      <td>0</td>\n",
       "      <td>4356</td>\n",
       "      <td>18</td>\n",
       "      <td>United-States</td>\n",
       "      <td>0</td>\n",
       "    </tr>\n",
       "    <tr>\n",
       "      <th>2</th>\n",
       "      <td>66</td>\n",
       "      <td>?</td>\n",
       "      <td>186061</td>\n",
       "      <td>Some-college</td>\n",
       "      <td>10</td>\n",
       "      <td>Widowed</td>\n",
       "      <td>?</td>\n",
       "      <td>Unmarried</td>\n",
       "      <td>Black</td>\n",
       "      <td>Female</td>\n",
       "      <td>0</td>\n",
       "      <td>4356</td>\n",
       "      <td>40</td>\n",
       "      <td>United-States</td>\n",
       "      <td>0</td>\n",
       "    </tr>\n",
       "    <tr>\n",
       "      <th>3</th>\n",
       "      <td>54</td>\n",
       "      <td>Private</td>\n",
       "      <td>140359</td>\n",
       "      <td>7th-8th</td>\n",
       "      <td>4</td>\n",
       "      <td>Divorced</td>\n",
       "      <td>Machine-op-inspct</td>\n",
       "      <td>Unmarried</td>\n",
       "      <td>White</td>\n",
       "      <td>Female</td>\n",
       "      <td>0</td>\n",
       "      <td>3900</td>\n",
       "      <td>40</td>\n",
       "      <td>United-States</td>\n",
       "      <td>0</td>\n",
       "    </tr>\n",
       "    <tr>\n",
       "      <th>4</th>\n",
       "      <td>41</td>\n",
       "      <td>Private</td>\n",
       "      <td>264663</td>\n",
       "      <td>Some-college</td>\n",
       "      <td>10</td>\n",
       "      <td>Separated</td>\n",
       "      <td>Prof-specialty</td>\n",
       "      <td>Own-child</td>\n",
       "      <td>White</td>\n",
       "      <td>Female</td>\n",
       "      <td>0</td>\n",
       "      <td>3900</td>\n",
       "      <td>40</td>\n",
       "      <td>United-States</td>\n",
       "      <td>0</td>\n",
       "    </tr>\n",
       "  </tbody>\n",
       "</table>\n",
       "</div>"
      ],
      "text/plain": [
       "   age workclass  fnlwgt     education  education.num marital.status  \\\n",
       "0   90         ?   77053       HS-grad              9        Widowed   \n",
       "1   82   Private  132870       HS-grad              9        Widowed   \n",
       "2   66         ?  186061  Some-college             10        Widowed   \n",
       "3   54   Private  140359       7th-8th              4       Divorced   \n",
       "4   41   Private  264663  Some-college             10      Separated   \n",
       "\n",
       "          occupation   relationship   race     sex  capital.gain  \\\n",
       "0                  ?  Not-in-family  White  Female             0   \n",
       "1    Exec-managerial  Not-in-family  White  Female             0   \n",
       "2                  ?      Unmarried  Black  Female             0   \n",
       "3  Machine-op-inspct      Unmarried  White  Female             0   \n",
       "4     Prof-specialty      Own-child  White  Female             0   \n",
       "\n",
       "   capital.loss  hours.per.week native.country  income  \n",
       "0          4356              40  United-States       0  \n",
       "1          4356              18  United-States       0  \n",
       "2          4356              40  United-States       0  \n",
       "3          3900              40  United-States       0  \n",
       "4          3900              40  United-States       0  "
      ]
     },
     "execution_count": 10,
     "metadata": {},
     "output_type": "execute_result"
    }
   ],
   "source": [
    "census_data.head(5)"
   ]
  },
  {
   "cell_type": "code",
   "execution_count": 11,
   "metadata": {},
   "outputs": [
    {
     "name": "stdout",
     "output_type": "stream",
     "text": [
      "False\n",
      "False\n",
      "False\n",
      "False\n",
      "False\n",
      "False\n",
      "False\n",
      "False\n",
      "False\n",
      "False\n",
      "False\n",
      "False\n",
      "False\n",
      "False\n",
      "False\n"
     ]
    }
   ],
   "source": [
    "for i in census_data:\n",
    "    print(pd.isnull(i))"
   ]
  },
  {
   "cell_type": "code",
   "execution_count": 12,
   "metadata": {},
   "outputs": [
    {
     "data": {
      "text/plain": [
       "age               0\n",
       "workclass         0\n",
       "fnlwgt            0\n",
       "education         0\n",
       "education.num     0\n",
       "marital.status    0\n",
       "occupation        0\n",
       "relationship      0\n",
       "race              0\n",
       "sex               0\n",
       "capital.gain      0\n",
       "capital.loss      0\n",
       "hours.per.week    0\n",
       "native.country    0\n",
       "income            0\n",
       "dtype: int64"
      ]
     },
     "execution_count": 12,
     "metadata": {},
     "output_type": "execute_result"
    }
   ],
   "source": [
    "census_data.apply(lambda x: sum(x.isnull()))"
   ]
  },
  {
   "cell_type": "code",
   "execution_count": 13,
   "metadata": {},
   "outputs": [
    {
     "data": {
      "text/plain": [
       "dtype('int64')"
      ]
     },
     "execution_count": 13,
     "metadata": {},
     "output_type": "execute_result"
    }
   ],
   "source": [
    "census_data['age'].dtype"
   ]
  },
  {
   "cell_type": "code",
   "execution_count": 14,
   "metadata": {},
   "outputs": [],
   "source": [
    "X_data = census_data.drop(\"income\",axis = 1)\n",
    "y_data = census_data['income']"
   ]
  },
  {
   "cell_type": "code",
   "execution_count": 15,
   "metadata": {},
   "outputs": [],
   "source": [
    "X_train, X_test, y_train, y_test = train_test_split(X_data,y_data,test_size = 0.3, random_state = 24)"
   ]
  },
  {
   "cell_type": "code",
   "execution_count": 16,
   "metadata": {},
   "outputs": [],
   "source": [
    "sex = tf.feature_column.categorical_column_with_vocabulary_list(\"sex\",['Female','Male'])\n",
    "race = tf.feature_column.categorical_column_with_hash_bucket(\"race\",hash_bucket_size=1000)\n",
    "occupation = tf.feature_column.categorical_column_with_hash_bucket(\"occupation\",hash_bucket_size=1000)\n",
    "relationship = tf.feature_column.categorical_column_with_hash_bucket(\"relationship\",hash_bucket_size=1000)\n",
    "education = tf.feature_column.categorical_column_with_hash_bucket(\"education\",hash_bucket_size=1000)\n",
    "marital_status = tf.feature_column.categorical_column_with_hash_bucket(\"marital.status\",hash_bucket_size=1000)\n",
    "workclass = tf.feature_column.categorical_column_with_hash_bucket(\"workclass\",hash_bucket_size=1000)\n",
    "native_country = tf.feature_column.categorical_column_with_hash_bucket(\"native.country\",hash_bucket_size=1000)"
   ]
  },
  {
   "cell_type": "code",
   "execution_count": 17,
   "metadata": {},
   "outputs": [],
   "source": [
    "age = tf.feature_column.numeric_column(\"age\")\n",
    "education_num = tf.feature_column.numeric_column(\"education.num\")\n",
    "capital_gain = tf.feature_column.numeric_column(\"capital.gain\")\n",
    "capital_loss= tf.feature_column.numeric_column(\"capital.loss\")\n",
    "hours_per_week = tf.feature_column.numeric_column(\"hours.per.week\")"
   ]
  },
  {
   "cell_type": "code",
   "execution_count": 18,
   "metadata": {},
   "outputs": [],
   "source": [
    "feat_cols = [age, workclass, education, education_num,\n",
    "       marital_status, occupation,relationship, race, sex,\n",
    "       capital_gain, capital_loss, hours_per_week, native_country]"
   ]
  },
  {
   "cell_type": "code",
   "execution_count": 19,
   "metadata": {},
   "outputs": [],
   "source": [
    "input_func = tf.estimator.inputs.pandas_input_fn(x = X_train,y=y_train, batch_size=100,num_epochs=None,shuffle=True)"
   ]
  },
  {
   "cell_type": "markdown",
   "metadata": {},
   "source": [
    "## Create Linear Classifier"
   ]
  },
  {
   "cell_type": "code",
   "execution_count": 20,
   "metadata": {},
   "outputs": [
    {
     "name": "stdout",
     "output_type": "stream",
     "text": [
      "INFO:tensorflow:Using default config.\n",
      "WARNING:tensorflow:Using temporary folder as model directory: C:\\Users\\ABHINA~1.BOH\\AppData\\Local\\Temp\\tmp50nfc0nc\n",
      "INFO:tensorflow:Using config: {'_model_dir': 'C:\\\\Users\\\\ABHINA~1.BOH\\\\AppData\\\\Local\\\\Temp\\\\tmp50nfc0nc', '_tf_random_seed': None, '_save_summary_steps': 100, '_save_checkpoints_steps': None, '_save_checkpoints_secs': 600, '_session_config': allow_soft_placement: true\n",
      "graph_options {\n",
      "  rewrite_options {\n",
      "    meta_optimizer_iterations: ONE\n",
      "  }\n",
      "}\n",
      ", '_keep_checkpoint_max': 5, '_keep_checkpoint_every_n_hours': 10000, '_log_step_count_steps': 100, '_train_distribute': None, '_device_fn': None, '_protocol': None, '_eval_distribute': None, '_experimental_distribute': None, '_service': None, '_cluster_spec': <tensorflow.python.training.server_lib.ClusterSpec object at 0x0000021779EC6278>, '_task_type': 'worker', '_task_id': 0, '_global_id_in_cluster': 0, '_master': '', '_evaluation_master': '', '_is_chief': True, '_num_ps_replicas': 0, '_num_worker_replicas': 1}\n"
     ]
    }
   ],
   "source": [
    "model = tf.estimator.LinearClassifier(feature_columns=feat_cols) "
   ]
  },
  {
   "cell_type": "code",
   "execution_count": 21,
   "metadata": {},
   "outputs": [
    {
     "name": "stdout",
     "output_type": "stream",
     "text": [
      "WARNING:tensorflow:From C:\\Users\\abhinav.bohra\\AppData\\Local\\Continuum\\anaconda3\\lib\\site-packages\\tensorflow\\python\\framework\\op_def_library.py:263: colocate_with (from tensorflow.python.framework.ops) is deprecated and will be removed in a future version.\n",
      "Instructions for updating:\n",
      "Colocations handled automatically by placer.\n",
      "WARNING:tensorflow:From C:\\Users\\abhinav.bohra\\AppData\\Local\\Continuum\\anaconda3\\lib\\site-packages\\tensorflow_estimator\\python\\estimator\\inputs\\queues\\feeding_queue_runner.py:62: QueueRunner.__init__ (from tensorflow.python.training.queue_runner_impl) is deprecated and will be removed in a future version.\n",
      "Instructions for updating:\n",
      "To construct input pipelines, use the `tf.data` module.\n",
      "WARNING:tensorflow:From C:\\Users\\abhinav.bohra\\AppData\\Local\\Continuum\\anaconda3\\lib\\site-packages\\tensorflow_estimator\\python\\estimator\\inputs\\queues\\feeding_functions.py:500: add_queue_runner (from tensorflow.python.training.queue_runner_impl) is deprecated and will be removed in a future version.\n",
      "Instructions for updating:\n",
      "To construct input pipelines, use the `tf.data` module.\n",
      "INFO:tensorflow:Calling model_fn.\n",
      "WARNING:tensorflow:From C:\\Users\\abhinav.bohra\\AppData\\Local\\Continuum\\anaconda3\\lib\\site-packages\\tensorflow\\python\\feature_column\\feature_column_v2.py:2703: to_float (from tensorflow.python.ops.math_ops) is deprecated and will be removed in a future version.\n",
      "Instructions for updating:\n",
      "Use tf.cast instead.\n",
      "WARNING:tensorflow:From C:\\Users\\abhinav.bohra\\AppData\\Local\\Continuum\\anaconda3\\lib\\site-packages\\tensorflow\\python\\ops\\lookup_ops.py:1137: to_int64 (from tensorflow.python.ops.math_ops) is deprecated and will be removed in a future version.\n",
      "Instructions for updating:\n",
      "Use tf.cast instead.\n",
      "INFO:tensorflow:Done calling model_fn.\n",
      "INFO:tensorflow:Create CheckpointSaverHook.\n",
      "INFO:tensorflow:Graph was finalized.\n",
      "INFO:tensorflow:Running local_init_op.\n",
      "INFO:tensorflow:Done running local_init_op.\n",
      "WARNING:tensorflow:From C:\\Users\\abhinav.bohra\\AppData\\Local\\Continuum\\anaconda3\\lib\\site-packages\\tensorflow\\python\\training\\monitored_session.py:809: start_queue_runners (from tensorflow.python.training.queue_runner_impl) is deprecated and will be removed in a future version.\n",
      "Instructions for updating:\n",
      "To construct input pipelines, use the `tf.data` module.\n",
      "INFO:tensorflow:Saving checkpoints for 0 into C:\\Users\\ABHINA~1.BOH\\AppData\\Local\\Temp\\tmp50nfc0nc\\model.ckpt.\n",
      "INFO:tensorflow:loss = 69.31474, step = 1\n",
      "INFO:tensorflow:global_step/sec: 121.831\n",
      "INFO:tensorflow:loss = 366.69495, step = 101 (0.823 sec)\n",
      "INFO:tensorflow:global_step/sec: 367.281\n",
      "INFO:tensorflow:loss = 49.578983, step = 201 (0.272 sec)\n",
      "INFO:tensorflow:global_step/sec: 360.676\n",
      "INFO:tensorflow:loss = 664.3616, step = 301 (0.277 sec)\n",
      "INFO:tensorflow:global_step/sec: 355.558\n",
      "INFO:tensorflow:loss = 113.65185, step = 401 (0.281 sec)\n",
      "INFO:tensorflow:global_step/sec: 393.205\n",
      "INFO:tensorflow:loss = 484.3826, step = 501 (0.254 sec)\n",
      "INFO:tensorflow:global_step/sec: 397.886\n",
      "INFO:tensorflow:loss = 117.256096, step = 601 (0.251 sec)\n",
      "INFO:tensorflow:global_step/sec: 376.944\n",
      "INFO:tensorflow:loss = 30.549223, step = 701 (0.267 sec)\n",
      "INFO:tensorflow:global_step/sec: 353.053\n",
      "INFO:tensorflow:loss = 67.76365, step = 801 (0.282 sec)\n",
      "INFO:tensorflow:global_step/sec: 317.301\n",
      "INFO:tensorflow:loss = 122.724846, step = 901 (0.316 sec)\n",
      "INFO:tensorflow:global_step/sec: 315.306\n",
      "INFO:tensorflow:loss = 93.55321, step = 1001 (0.317 sec)\n",
      "INFO:tensorflow:global_step/sec: 307.568\n",
      "INFO:tensorflow:loss = 41.305664, step = 1101 (0.326 sec)\n",
      "INFO:tensorflow:global_step/sec: 296.648\n",
      "INFO:tensorflow:loss = 38.377438, step = 1201 (0.336 sec)\n",
      "INFO:tensorflow:global_step/sec: 281.65\n",
      "INFO:tensorflow:loss = 32.260376, step = 1301 (0.353 sec)\n",
      "INFO:tensorflow:global_step/sec: 264.557\n",
      "INFO:tensorflow:loss = 30.144707, step = 1401 (0.379 sec)\n",
      "INFO:tensorflow:global_step/sec: 297.529\n",
      "INFO:tensorflow:loss = 90.081116, step = 1501 (0.336 sec)\n",
      "INFO:tensorflow:global_step/sec: 299.306\n",
      "INFO:tensorflow:loss = 89.1835, step = 1601 (0.336 sec)\n",
      "INFO:tensorflow:global_step/sec: 310.425\n",
      "INFO:tensorflow:loss = 112.84819, step = 1701 (0.320 sec)\n",
      "INFO:tensorflow:global_step/sec: 303.839\n",
      "INFO:tensorflow:loss = 56.25538, step = 1801 (0.329 sec)\n",
      "INFO:tensorflow:global_step/sec: 292.325\n",
      "INFO:tensorflow:loss = 28.273788, step = 1901 (0.343 sec)\n",
      "INFO:tensorflow:global_step/sec: 283.242\n",
      "INFO:tensorflow:loss = 171.5234, step = 2001 (0.351 sec)\n",
      "INFO:tensorflow:global_step/sec: 265.17\n",
      "INFO:tensorflow:loss = 371.00626, step = 2101 (0.378 sec)\n",
      "INFO:tensorflow:global_step/sec: 263.861\n",
      "INFO:tensorflow:loss = 63.81794, step = 2201 (0.379 sec)\n",
      "INFO:tensorflow:global_step/sec: 315.305\n",
      "INFO:tensorflow:loss = 572.08563, step = 2301 (0.316 sec)\n",
      "INFO:tensorflow:global_step/sec: 274.705\n",
      "INFO:tensorflow:loss = 42.37354, step = 2401 (0.366 sec)\n",
      "INFO:tensorflow:global_step/sec: 293.179\n",
      "INFO:tensorflow:loss = 427.4236, step = 2501 (0.340 sec)\n",
      "INFO:tensorflow:global_step/sec: 287.299\n",
      "INFO:tensorflow:loss = 80.17545, step = 2601 (0.347 sec)\n",
      "INFO:tensorflow:global_step/sec: 218.924\n",
      "INFO:tensorflow:loss = 32.44052, step = 2701 (0.460 sec)\n",
      "INFO:tensorflow:global_step/sec: 235.923\n",
      "INFO:tensorflow:loss = 30.773466, step = 2801 (0.422 sec)\n",
      "INFO:tensorflow:global_step/sec: 279.296\n",
      "INFO:tensorflow:loss = 67.36074, step = 2901 (0.358 sec)\n",
      "INFO:tensorflow:global_step/sec: 310.425\n",
      "INFO:tensorflow:loss = 67.29993, step = 3001 (0.321 sec)\n",
      "INFO:tensorflow:global_step/sec: 304.763\n",
      "INFO:tensorflow:loss = 31.708479, step = 3101 (0.329 sec)\n",
      "INFO:tensorflow:global_step/sec: 316.301\n",
      "INFO:tensorflow:loss = 68.58785, step = 3201 (0.316 sec)\n",
      "INFO:tensorflow:global_step/sec: 312.359\n",
      "INFO:tensorflow:loss = 43.279343, step = 3301 (0.323 sec)\n",
      "INFO:tensorflow:global_step/sec: 292.324\n",
      "INFO:tensorflow:loss = 38.255203, step = 3401 (0.339 sec)\n",
      "INFO:tensorflow:global_step/sec: 310.425\n",
      "INFO:tensorflow:loss = 33.16701, step = 3501 (0.322 sec)\n",
      "INFO:tensorflow:global_step/sec: 295.773\n",
      "INFO:tensorflow:loss = 54.503384, step = 3601 (0.338 sec)\n",
      "INFO:tensorflow:global_step/sec: 265.961\n",
      "INFO:tensorflow:loss = 93.60724, step = 3701 (0.377 sec)\n",
      "INFO:tensorflow:global_step/sec: 300.201\n",
      "INFO:tensorflow:loss = 160.40334, step = 3801 (0.332 sec)\n",
      "INFO:tensorflow:global_step/sec: 267.38\n",
      "INFO:tensorflow:loss = 32.935738, step = 3901 (0.375 sec)\n",
      "INFO:tensorflow:global_step/sec: 263.931\n",
      "INFO:tensorflow:loss = 31.672997, step = 4001 (0.378 sec)\n",
      "INFO:tensorflow:global_step/sec: 273.207\n",
      "INFO:tensorflow:loss = 144.12427, step = 4101 (0.366 sec)\n",
      "INFO:tensorflow:global_step/sec: 280.861\n",
      "INFO:tensorflow:loss = 43.93605, step = 4201 (0.357 sec)\n",
      "INFO:tensorflow:global_step/sec: 293.179\n",
      "INFO:tensorflow:loss = 28.399248, step = 4301 (0.340 sec)\n",
      "INFO:tensorflow:global_step/sec: 298.414\n",
      "INFO:tensorflow:loss = 208.74187, step = 4401 (0.335 sec)\n",
      "INFO:tensorflow:global_step/sec: 303.84\n",
      "INFO:tensorflow:loss = 29.993477, step = 4501 (0.329 sec)\n",
      "INFO:tensorflow:global_step/sec: 314.317\n",
      "INFO:tensorflow:loss = 36.23768, step = 4601 (0.318 sec)\n",
      "INFO:tensorflow:global_step/sec: 302.923\n",
      "INFO:tensorflow:loss = 44.69085, step = 4701 (0.330 sec)\n",
      "INFO:tensorflow:global_step/sec: 310.424\n",
      "INFO:tensorflow:loss = 102.75398, step = 4801 (0.322 sec)\n",
      "INFO:tensorflow:global_step/sec: 281.65\n",
      "INFO:tensorflow:loss = 78.7587, step = 4901 (0.355 sec)\n",
      "INFO:tensorflow:Saving checkpoints for 5000 into C:\\Users\\ABHINA~1.BOH\\AppData\\Local\\Temp\\tmp50nfc0nc\\model.ckpt.\n",
      "INFO:tensorflow:Loss for final step: 174.33836.\n"
     ]
    },
    {
     "data": {
      "text/plain": [
       "<tensorflow_estimator.python.estimator.canned.linear.LinearClassifier at 0x21779eb97b8>"
      ]
     },
     "execution_count": 21,
     "metadata": {},
     "output_type": "execute_result"
    }
   ],
   "source": [
    "model.train(input_fn=input_func,steps = 5000)"
   ]
  },
  {
   "cell_type": "code",
   "execution_count": 22,
   "metadata": {},
   "outputs": [],
   "source": [
    "pred_fn = tf.estimator.inputs.pandas_input_fn(x = X_test, batch_size=len(X_test), shuffle=True)"
   ]
  },
  {
   "cell_type": "code",
   "execution_count": 23,
   "metadata": {},
   "outputs": [
    {
     "name": "stdout",
     "output_type": "stream",
     "text": [
      "INFO:tensorflow:Calling model_fn.\n",
      "INFO:tensorflow:Done calling model_fn.\n",
      "INFO:tensorflow:Graph was finalized.\n",
      "WARNING:tensorflow:From C:\\Users\\abhinav.bohra\\AppData\\Local\\Continuum\\anaconda3\\lib\\site-packages\\tensorflow\\python\\training\\saver.py:1266: checkpoint_exists (from tensorflow.python.training.checkpoint_management) is deprecated and will be removed in a future version.\n",
      "Instructions for updating:\n",
      "Use standard file APIs to check for files with this prefix.\n",
      "INFO:tensorflow:Restoring parameters from C:\\Users\\ABHINA~1.BOH\\AppData\\Local\\Temp\\tmp50nfc0nc\\model.ckpt-5000\n",
      "INFO:tensorflow:Running local_init_op.\n",
      "INFO:tensorflow:Done running local_init_op.\n"
     ]
    }
   ],
   "source": [
    "predictions = list(model.predict(input_fn=pred_fn))"
   ]
  },
  {
   "cell_type": "code",
   "execution_count": 24,
   "metadata": {},
   "outputs": [
    {
     "data": {
      "text/plain": [
       "{'logits': array([-6.018335], dtype=float32),\n",
       " 'logistic': array([0.00242788], dtype=float32),\n",
       " 'probabilities': array([0.9975721 , 0.00242781], dtype=float32),\n",
       " 'class_ids': array([0], dtype=int64),\n",
       " 'classes': array([b'0'], dtype=object)}"
      ]
     },
     "execution_count": 24,
     "metadata": {},
     "output_type": "execute_result"
    }
   ],
   "source": [
    "predictions[0]"
   ]
  },
  {
   "cell_type": "code",
   "execution_count": 25,
   "metadata": {},
   "outputs": [],
   "source": [
    "finalpreds = []\n",
    "for preds in predictions:\n",
    "    finalpreds.append(preds['class_ids'][0])"
   ]
  },
  {
   "cell_type": "code",
   "execution_count": 26,
   "metadata": {},
   "outputs": [
    {
     "data": {
      "text/plain": [
       "[0, 1, 0, 0, 1, 0, 0, 0, 0, 0]"
      ]
     },
     "execution_count": 26,
     "metadata": {},
     "output_type": "execute_result"
    }
   ],
   "source": [
    "finalpreds[:10]"
   ]
  },
  {
   "cell_type": "code",
   "execution_count": 27,
   "metadata": {},
   "outputs": [],
   "source": [
    "from sklearn import metrics"
   ]
  },
  {
   "cell_type": "code",
   "execution_count": 28,
   "metadata": {},
   "outputs": [
    {
     "name": "stdout",
     "output_type": "stream",
     "text": [
      "             precision    recall  f1-score   support\n",
      "\n",
      "          0       0.77      0.82      0.79      7456\n",
      "          1       0.25      0.20      0.22      2313\n",
      "\n",
      "avg / total       0.64      0.67      0.66      9769\n",
      "\n"
     ]
    }
   ],
   "source": [
    "print(metrics.classification_report(y_test,finalpreds))"
   ]
  }
 ],
 "metadata": {
  "kernelspec": {
   "display_name": "Python 3",
   "language": "python",
   "name": "python3"
  },
  "language_info": {
   "codemirror_mode": {
    "name": "ipython",
    "version": 3
   },
   "file_extension": ".py",
   "mimetype": "text/x-python",
   "name": "python",
   "nbconvert_exporter": "python",
   "pygments_lexer": "ipython3",
   "version": "3.7.0"
  }
 },
 "nbformat": 4,
 "nbformat_minor": 2
}
